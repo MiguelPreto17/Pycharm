{
 "cells": [
  {
   "cell_type": "markdown",
   "metadata": {},
   "source": [
    "## Nº cartão"
   ]
  },
  {
   "cell_type": "code",
   "execution_count": null,
   "metadata": {
    "vscode": {
     "languageId": "plaintext"
    }
   },
   "outputs": [],
   "source": [
    "0\n",
    "4\n",
    "5\n",
    "13\n",
    "19\n",
    "29\n",
    "35\n",
    "46\n",
    "50\n",
    "51\n",
    "55\n",
    "59\n",
    "76\n",
    "87\n",
    "133\n",
    "144\n",
    "145\n",
    "146\n",
    "150"
   ]
  }
 ],
 "metadata": {
  "language_info": {
   "name": "python"
  }
 },
 "nbformat": 4,
 "nbformat_minor": 2
}
