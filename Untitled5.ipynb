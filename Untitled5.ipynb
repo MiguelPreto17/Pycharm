{
 "cells": [
  {
   "cell_type": "code",
   "execution_count": 1,
   "id": "be4fa60f",
   "metadata": {},
   "outputs": [
    {
     "name": "stdout",
     "output_type": "stream",
     "text": [
      "           Start date           Stop date        Charging Place  \\\n",
      "0  03/28/2024 | 16:59  03/28/2024 | 18:44  Parque Sonae Capital   \n",
      "1  03/28/2024 | 16:33  03/28/2024 | 16:41  Parque Sonae Capital   \n",
      "2  03/28/2024 | 14:15  03/28/2024 | 15:01  Parque Sonae Capital   \n",
      "3  03/28/2024 | 13:58  03/28/2024 | 19:33  Parque Sonae Capital   \n",
      "4  03/28/2024 | 09:01  03/28/2024 | 12:47  Parque Sonae Capital   \n",
      "\n",
      "    Charging Station  Duration (min)  Total Energy (kWh) Nº cartão EVIO  \n",
      "0  CAP_SON_MAI_00010         104.500                5.46             55  \n",
      "1  CAP_SON_MAI_00010           8.300                0.99             55  \n",
      "2  CAP_SON_MAI_00004          46.517                7.33            133  \n",
      "3  CAP_SON_MAI_00010         334.617               21.92              1  \n",
      "4  CAP_SON_MAI_00010         225.700               42.96            133  \n",
      "                datetime  Carregamento\n",
      "0    2024-03-01 00:00:00             0\n",
      "1    2024-03-01 01:00:00             0\n",
      "2    2024-03-01 02:00:00             0\n",
      "3    2024-03-01 03:00:00             0\n",
      "4    2024-03-01 04:00:00             0\n",
      "...                  ...           ...\n",
      "2923 2024-06-30 19:00:00             0\n",
      "2924 2024-06-30 20:00:00             0\n",
      "2925 2024-06-30 21:00:00             0\n",
      "2926 2024-06-30 22:00:00             0\n",
      "2927 2024-06-30 23:00:00             0\n",
      "\n",
      "[2928 rows x 2 columns]\n"
     ]
    }
   ],
   "source": [
    "import pandas as pd\n",
    "\n",
    "# Carregar os dados do usuário\n",
    "user_df = pd.read_excel('EVIO_history_01-03-2024_01-06-2024.xlsx')\n",
    "\n",
    "print(user_df.head())\n",
    "\n",
    "# Carregar os dados de incentivos\n",
    "incentivos_df = pd.read_csv('output_data_2024-03-01_to_2024-06-30.csv', sep=';')\n",
    "\n",
    "# Separar a coluna de incentivos em várias colunas\n",
    "#incentivos_df = incentivos_df['datetime;request;value;unit;quality;updated_at;Hour'].str.split(';', expand=True)\n",
    "incentivos_df.columns = ['datetime','request', 'value', 'unit', 'quality', 'updated_at', 'Hour']\n",
    "incentivos_df['datetime'] = pd.to_datetime(incentivos_df['datetime'])\n",
    "\n",
    "# Remover fuso horário das datas de incentivos_df (ou ajustar fuso horário conforme necessário)\n",
    "incentivos_df['datetime'] = incentivos_df['datetime'].dt.tz_localize(None)\n",
    "\n",
    "# Preparação dos dados de User\n",
    "user_df['Start date'] = pd.to_datetime(user_df['Start date'], format='%m/%d/%Y | %H:%M')\n",
    "user_df['Stop date'] = pd.to_datetime(user_df['Stop date'], format='%m/%d/%Y | %H:%M')\n",
    "\n",
    "# Remover fuso horário das datas de user_df (ou ajustar fuso horário conforme necessário)\n",
    "user_df['Start date'] = user_df['Start date'].dt.tz_localize(None)\n",
    "user_df['Stop date'] = user_df['Stop date'].dt.tz_localize(None)\n",
    "\n",
    "# Criar uma lista de intervalos de tempo de carregamento\n",
    "intervals = [(start, stop) for start, stop in zip(user_df['Start date'], user_df['Stop date'])]\n",
    "\n",
    "# Função para verificar se uma datetime está dentro de algum intervalo\n",
    "def check_if_in_intervals(dt, intervals):\n",
    "    for start, stop in intervals:\n",
    "        if start <= dt <= stop:\n",
    "            return 1\n",
    "    return 0\n",
    "\n",
    "# Aplicar a função em todas as datetimes do incentivos_df\n",
    "incentivos_df['Carregamento'] = incentivos_df['datetime'].apply(lambda x: check_if_in_intervals(x, intervals))\n",
    "\n",
    "# Selecionar apenas as colunas datetime e Carregamento\n",
    "resultado_df = incentivos_df[['datetime', 'Carregamento']]\n",
    "\n",
    "# Mostrar as primeiras linhas do resultado final\n",
    "print(resultado_df)"
   ]
  },
  {
   "cell_type": "code",
   "execution_count": 4,
   "id": "55807759",
   "metadata": {},
   "outputs": [
    {
     "name": "stdout",
     "output_type": "stream",
     "text": [
      "                datetime  Carregamento\n",
      "8    2024-03-01 08:00:00             1\n",
      "9    2024-03-01 09:00:00             1\n",
      "10   2024-03-01 10:00:00             1\n",
      "11   2024-03-01 11:00:00             1\n",
      "12   2024-03-01 12:00:00             1\n",
      "...                  ...           ...\n",
      "2197 2024-05-31 13:00:00             1\n",
      "2198 2024-05-31 14:00:00             1\n",
      "2199 2024-05-31 15:00:00             1\n",
      "2200 2024-05-31 16:00:00             1\n",
      "2201 2024-05-31 17:00:00             1\n",
      "\n",
      "[628 rows x 2 columns]\n"
     ]
    }
   ],
   "source": [
    "# Filtrar as linhas onde 'Carregamento' é igual a 1\n",
    "carregamentos = resultado_df[resultado_df['Carregamento'] == 1]\n",
    "\n",
    "# Mostrar as primeiras linhas do resultado filtrado\n",
    "print(carregamentos)"
   ]
  },
  {
   "cell_type": "code",
   "execution_count": 5,
   "id": "326d693b",
   "metadata": {},
   "outputs": [
    {
     "name": "stdout",
     "output_type": "stream",
     "text": [
      "                datetime               value\n",
      "0    2024-03-01 00:00:00   59,09633394582926\n",
      "1    2024-03-01 01:00:00  62,827364629552676\n",
      "2    2024-03-01 02:00:00    65,3172587687224\n",
      "3    2024-03-01 03:00:00   65,18011468207278\n",
      "4    2024-03-01 04:00:00   65,15481241961075\n",
      "...                  ...                 ...\n",
      "2923 2024-06-30 19:00:00   82,37697382974065\n",
      "2924 2024-06-30 20:00:00   75,43105316334933\n",
      "2925 2024-06-30 21:00:00   75,65312361847278\n",
      "2926 2024-06-30 22:00:00    79,7650281422051\n",
      "2927 2024-06-30 23:00:00   88,23627932206504\n",
      "\n",
      "[2928 rows x 2 columns]\n"
     ]
    }
   ],
   "source": [
    "# Selecionar apenas as colunas 'datetime' e 'value'\n",
    "incentivos_df = incentivos_df[['datetime', 'value']]\n",
    "\n",
    "# Mostrar as primeiras linhas do DataFrame resultante\n",
    "print(incentivos_df)"
   ]
  },
  {
   "cell_type": "code",
   "execution_count": 6,
   "id": "34b31892",
   "metadata": {},
   "outputs": [
    {
     "name": "stdout",
     "output_type": "stream",
     "text": [
      "               datetime      value Status\n",
      "0   2024-03-01 08:00:00  52.985238    Bom\n",
      "1   2024-03-01 09:00:00  59.441302    Bom\n",
      "2   2024-03-01 10:00:00  63.493516    Bom\n",
      "3   2024-03-01 11:00:00  67.441346    Bom\n",
      "4   2024-03-01 12:00:00  68.566031    Bom\n",
      "..                  ...        ...    ...\n",
      "623 2024-05-31 13:00:00  88.734780    Mau\n",
      "624 2024-05-31 14:00:00  93.672904    Mau\n",
      "625 2024-05-31 15:00:00  96.283008    Mau\n",
      "626 2024-05-31 16:00:00  92.572219    Mau\n",
      "627 2024-05-31 17:00:00  93.264776    Mau\n",
      "\n",
      "[628 rows x 3 columns]\n"
     ]
    }
   ],
   "source": [
    "# Selecionar apenas as colunas 'datetime' e 'value'\n",
    "incentivos_df = incentivos_df[['datetime', 'value']]\n",
    "\n",
    "# Converter todos os valores para string e substituir vírgulas por pontos\n",
    "incentivos_df['value'] = incentivos_df['value'].astype(str).str.replace(',', '.').astype(float)\n",
    "\n",
    "# Realizar o merge dos DataFrames\n",
    "merged_df = pd.merge(carregamentos, incentivos_df, on='datetime', how='inner')\n",
    "\n",
    "# Verificar se os valores estão acima ou abaixo do valor de referência (50)\n",
    "merged_df['Status'] = merged_df['value'].apply(lambda x: 'Bom' if x < 70 else 'Mau')\n",
    "\n",
    "# Mostrar as primeiras linhas do DataFrame resultante\n",
    "print(merged_df[['datetime', 'value', 'Status']])\n",
    "\n",
    "# Salvar os bons e maus carregamentos em arquivos CSV\n",
    "bons_carregamentos = merged_df[merged_df['Status'] == 'Bom']\n",
    "maus_carregamentos = merged_df[merged_df['Status'] == 'Mau']"
   ]
  },
  {
   "cell_type": "code",
   "execution_count": 33,
   "id": "6ce38556",
   "metadata": {},
   "outputs": [
    {
     "data": {
      "image/png": "[encoded data removed]",
      "text/plain": [
       "<Figure size 800x600 with 1 Axes>"
      ]
     },
     "metadata": {},
     "output_type": "display_data"
    }
   ],
   "source": [
    "import matplotlib.pyplot as plt\n",
    "\n",
    "# Contar a quantidade de bons e maus carregamentos\n",
    "status_counts = merged_df['Status'].value_counts()\n",
    "\n",
    "# Plotar o gráfico de barras\n",
    "plt.figure(figsize=(8, 6))\n",
    "status_counts.plot(kind='bar', color=['green', 'red'])\n",
    "plt.title('Quantidade de Bons e Maus Carregamentos')\n",
    "plt.xlabel('Status do Carregamento')\n",
    "plt.ylabel('Quantidade')\n",
    "plt.xticks(rotation=0)\n",
    "plt.grid(axis='y', linestyle='--', alpha=0.7)\n",
    "\n",
    "# Mostrar o gráfico\n",
    "plt.show()"
   ]
  },
  {
   "cell_type": "code",
   "execution_count": null,
   "id": "9e6762b0",
   "metadata": {},
   "outputs": [],
   "source": []
  }
 ],
 "metadata": {
  "kernelspec": {
   "display_name": "Python 3 (ipykernel)",
   "language": "python",
   "name": "python3"
  },
  "language_info": {
   "codemirror_mode": {
    "name": "ipython",
    "version": 3
   },
   "file_extension": ".py",
   "mimetype": "text/x-python",
   "name": "python",
   "nbconvert_exporter": "python",
   "pygments_lexer": "ipython3",
   "version": "3.9.13"
  }
 },
 "nbformat": 4,
 "nbformat_minor": 5
}
